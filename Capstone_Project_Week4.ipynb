{
 "cells": [
  {
   "cell_type": "markdown",
   "metadata": {},
   "source": [
    "#### Introduction"
   ]
  },
  {
   "cell_type": "markdown",
   "metadata": {},
   "source": [
    "##### The City of New York has been having a significant influence on international fashion trends. New York City, especially Manhattan, is unarguably a key center for the fashion industry. The city offers a massive pool of creative talent as well as retail spaces in highly-trafficked locations. Our client is trying to start their own clothing boutique in Manhattan. As data analysts, we are engaged to recommend potential locations for their new business."
   ]
  },
  {
   "cell_type": "markdown",
   "metadata": {},
   "source": [
    "#### Data Source"
   ]
  },
  {
   "cell_type": "markdown",
   "metadata": {},
   "source": [
    "##### In order to find an ideal location for the new clothing boutique, we want to analyze the locations of existing department stores, apparel shops and boutiques. Firstly, we want to locate the new business in a popular shopping center where customers will gather. Secondly, we want to locate the new business close to shops of similar style so that customers are more likely to be attracted.To accomplish such task, we will study the Foursquare Manhattan Shops Data. "
   ]
  },
  {
   "cell_type": "code",
   "execution_count": null,
   "metadata": {},
   "outputs": [],
   "source": []
  }
 ],
 "metadata": {
  "kernelspec": {
   "display_name": "Python 3",
   "language": "python",
   "name": "python3"
  },
  "language_info": {
   "codemirror_mode": {
    "name": "ipython",
    "version": 3
   },
   "file_extension": ".py",
   "mimetype": "text/x-python",
   "name": "python",
   "nbconvert_exporter": "python",
   "pygments_lexer": "ipython3",
   "version": "3.6.8"
  }
 },
 "nbformat": 4,
 "nbformat_minor": 2
}
