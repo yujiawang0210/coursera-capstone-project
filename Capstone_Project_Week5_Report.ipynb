{
 "cells": [
  {
   "cell_type": "markdown",
   "metadata": {},
   "source": [
    "### Introduction"
   ]
  },
  {
   "cell_type": "markdown",
   "metadata": {},
   "source": [
    "##### The City of New York has been having a significant influence on international fashion trends. New York City, especially Manhattan, is unarguably a key center for the fashion industry. The city offers a massive pool of creative talent as well as retail space in highly-trafficked locations. Our client is trying to start their own apparel store in Manhattan. As data analysts, we are engaged to answer two questions: 1) where should the new business be located and 2) what type of apparel store is preferred."
   ]
  },
  {
   "cell_type": "markdown",
   "metadata": {},
   "source": [
    "### Data Source"
   ]
  },
  {
   "cell_type": "markdown",
   "metadata": {},
   "source": [
    "##### For this project, we will be utilizing the Foursquare Venues Data for Manhattan. The Foursquare Venues Data for Manhattan include information like neighborhood, latitude and longitude, venue, venue name, and venue category. The Foursquare website (see link below) has a full list of fashion-related venue categories, which include department store, clothing store, women's store, men's store, kids store, lingerie store, accessories store, shoe store, and boutique. We will use only the fashion-related venue data to make our recommendation. For the location, we will analyze the locations of existing apparel stores. We want to locate the new business in popular shopping center where customers will gather. For the store type, we will analyze the venue category of existing apparel stores. We want to make the new business similar to nearby shops so that customers are more likely to be attracted.\n",
    "https://developer.foursquare.com/docs/resources/categories"
   ]
  },
  {
   "cell_type": "markdown",
   "metadata": {},
   "source": [
    "### Methodology Section"
   ]
  },
  {
   "cell_type": "markdown",
   "metadata": {},
   "source": [
    "##### In the first section, we obtained the New York City neighborhood data from an outside link. The data downloaded include neighborhood name, latitude, and longitude. For the purpose of this project, we used only the information for Manhattan, which is a subset of the data. Then we went on to explore neighborhoods in Manhattan using Foursquare. Foursquare returns a venues of each neighborhood and corresponding information pertaining the venue (i.e. category, latitude, and longitude).\n",
    "\n",
    "##### In the second section, we focused on the apparel stores in Manhattan. By examining the unique categories of the data from section one above, we noted that fashion-related venue categories include department store, clothing store, women's store, men's store, kids store, lingerie store, accessories store, shoe store, and boutique. As a result, we kept data from those categories only. Next, we grouped the resulting dataframe by neighborhood and noted that Soho has the highest number of apparel stores. Therefore, we will recommend our client to locate their new business in Soho.\n",
    "\n",
    "##### In the third section, we analyzed each neighborhood focusing on venue category. We created a dummy variable (i.e. 0 or 1) for each category and put the results into a new data frame. Next, we grouped rows by neighborhood and by taking the mean of the frequency of occurrence of each category. From here, we were able to get each neighborhood's top 3 most common venues. It is noted that the top 3 category for Soho are clothing store, women's store, and boutique. Thus, we will recommend that our client open either a clothing store or a women's store.\n"
   ]
  },
  {
   "cell_type": "markdown",
   "metadata": {},
   "source": [
    "### Results Section"
   ]
  },
  {
   "cell_type": "markdown",
   "metadata": {},
   "source": [
    "##### As a result of our analysis, we determined that Soho is the most popular shopping center within Manhattan with the most number of apparel stores out of all neighborhood. Also, we determined that within Soho, the top three apparel store categories are clothing store, women's store, and boutique store. "
   ]
  },
  {
   "cell_type": "markdown",
   "metadata": {},
   "source": [
    "### Discussion Section"
   ]
  },
  {
   "cell_type": "markdown",
   "metadata": {},
   "source": [
    "##### As a result of our analysis, our recommendation to the client is to open a new clothing store or women's store in Soho."
   ]
  },
  {
   "cell_type": "markdown",
   "metadata": {},
   "source": [
    "### Conclusion Section"
   ]
  },
  {
   "cell_type": "markdown",
   "metadata": {},
   "source": [
    "##### In this project, we studied the apparel store data from Foursquare to make a recommendation to a new business. However, the usefulness of our study is limited due to quality of data. First, Foursquare does not provide sufficient data entries (i.e. less than 50 recorded apparel stores) to run a comprehensive analysis. Second, the category assigned to each venue might be inaccurate. For instance, some venues are marked as \"clothing store\" but should actually be categorized as \"boutique store\". We learned from this project that the quality of data is vital to the sucess of a new project."
   ]
  },
  {
   "cell_type": "code",
   "execution_count": null,
   "metadata": {},
   "outputs": [],
   "source": []
  },
  {
   "cell_type": "code",
   "execution_count": null,
   "metadata": {},
   "outputs": [],
   "source": []
  }
 ],
 "metadata": {
  "kernelspec": {
   "display_name": "Python 3",
   "language": "python",
   "name": "python3"
  },
  "language_info": {
   "codemirror_mode": {
    "name": "ipython",
    "version": 3
   },
   "file_extension": ".py",
   "mimetype": "text/x-python",
   "name": "python",
   "nbconvert_exporter": "python",
   "pygments_lexer": "ipython3",
   "version": "3.6.8"
  }
 },
 "nbformat": 4,
 "nbformat_minor": 2
}
